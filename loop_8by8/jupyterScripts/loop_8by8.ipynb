{
 "cells": [
  {
   "cell_type": "code",
   "execution_count": 293,
   "metadata": {},
   "outputs": [],
   "source": [
    "from pynq import Overlay\n",
    "import numpy as np\n",
    "import time\n",
    "ol = Overlay('./design_1.bit')"
   ]
  },
  {
   "cell_type": "code",
   "execution_count": 294,
   "metadata": {},
   "outputs": [],
   "source": [
    "myip=ol.address_op16_0\n",
    "# ol.__dir__()\n",
    "\n",
    "########## writing: ##############\n",
    "# 4'h0: // writing to bram_of_matrix\n",
    "# 4'h1: // writing to bram_of_noise\n",
    "# 4'h2: // writing to bram_of_threshold\n",
    "# 4'h3: // writing to addr_counter\n",
    "# 4'h4: // writing to read_byte_select\n",
    "# 4'h5: // writing to start_computation_reg\n",
    "# 4'h6: // writing to result select\n",
    "# 4'hF: // reset all\n",
    "\n",
    "########## Reading: ##############\n",
    "# 4'h0   : reg_data_out <= pipelined_output; // read pipelined bram output\n",
    "# 4'h1   : reg_data_out <= addr_counter; // see addr_counter\n",
    "# 4'h2   : reg_data_out <= holder[C_S_AXI_DATA_WIDTH*read_byte_select +: C_S_AXI_DATA_WIDTH]; // see holder with read_byte_select\n",
    "# 4'h3   : // reading results"
   ]
  },
  {
   "cell_type": "code",
   "execution_count": 295,
   "metadata": {},
   "outputs": [],
   "source": [
    "th_addr = 0x400\n",
    "noise_addr = 0x401\n",
    "def write8by8matrix(a):\n",
    "    #first clear\n",
    "    myip.write(0x3c,1)\n",
    "    for i in range(8):\n",
    "        #write address\n",
    "        myip.write(0x0c,i)\n",
    "        for j in range(8):\n",
    "            myip.write(0x00,int(a[i,7-j]))\n",
    "    return\n",
    "\n",
    "def writethreshold(th):\n",
    "    #first clear\n",
    "    myip.write(0x3c,1)\n",
    "    myip.write(0x0c,th_addr)\n",
    "    for i in range(8):\n",
    "        #write address\n",
    "        myip.write(0x00,int(th[7-i]))\n",
    "    return\n",
    "       \n",
    "def writenoise(noise):\n",
    "    (n_h,n_w) = np.shape(noise)\n",
    "    print('n_h = ',n_h)\n",
    "    #first clear\n",
    "    myip.write(0x3c,1)\n",
    "    for i in range(n_h):\n",
    "        #write address\n",
    "        myip.write(0x0c,noise_addr+i)\n",
    "        for j in range(8):\n",
    "            myip.write(0x00,int(noise[i,7-j]))\n",
    "    return\n",
    "\n",
    "def write_bram_one_entry(addr, dataList):\n",
    "#     #first clear\n",
    "#     myip.write(0x3c,1)\n",
    "    #write address\n",
    "    myip.write(0x0c,addr)\n",
    "    for j in range(8):\n",
    "        myip.write(0x00,int(dataList[j]))\n",
    "    return\n",
    "\n",
    "def write_clear():\n",
    "    #first clear\n",
    "    myip.write(0x3c,1)\n",
    "    return\n",
    "        \n",
    "        "
   ]
  },
  {
   "cell_type": "code",
   "execution_count": 296,
   "metadata": {},
   "outputs": [],
   "source": [
    "def readbram(addr,byte_select):\n",
    "    myip.write(0x0c,addr)\n",
    "    myip.write(0x10,byte_select)\n",
    "    myip.read(0x00)\n",
    "    result = myip.read(0x00)\n",
    "    return result\n",
    "\n",
    "def readbram_whole(addr):\n",
    "    myip.write(0x0c,addr)\n",
    "    for i in range(8):\n",
    "        myip.write(0x10,i)\n",
    "        print(myip.read(0x00))\n",
    "    return\n",
    "\n",
    "def read_addr_counter():\n",
    "    result = myip.read(0x04)\n",
    "    return result\n",
    "\n",
    "def read_holder_32bits(byte_select):\n",
    "    myip.write(0x10,byte_select)\n",
    "    result = myip.read(0x08)\n",
    "    return result\n",
    "\n",
    "def read_holder():\n",
    "    for i in range(8):\n",
    "        myip.write(0x10,i)\n",
    "        print(myip.read(0x08))\n",
    "    return\n",
    "\n",
    "def read_result():\n",
    "    result = myip.read(0x0c)\n",
    "    return result"
   ]
  },
  {
   "cell_type": "code",
   "execution_count": 297,
   "metadata": {},
   "outputs": [
    {
     "name": "stdout",
     "output_type": "stream",
     "text": [
      "0\n",
      "0\n",
      "0\n",
      "0\n",
      "0\n",
      "0\n",
      "0\n",
      "0\n"
     ]
    },
    {
     "data": {
      "text/plain": [
       "0"
      ]
     },
     "execution_count": 297,
     "metadata": {},
     "output_type": "execute_result"
    }
   ],
   "source": [
    "# write_clear()\n",
    "read_holder()\n",
    "read_addr_counter()\n",
    "# 0x401"
   ]
  },
  {
   "cell_type": "code",
   "execution_count": 170,
   "metadata": {},
   "outputs": [],
   "source": [
    "# dataList =[101,201,3001,401,501,601,701,801]\n",
    "# write_bram_one_entry(1,dataList)"
   ]
  },
  {
   "cell_type": "code",
   "execution_count": 298,
   "metadata": {},
   "outputs": [],
   "source": [
    "a = np.array([[0,1,0,1,0,1,0,1],[2,0,2,0,2,0,2,0],[0,0,0,0,0,0,0,3333],[0,0,0,0,0,0,0,4444],\n",
    "              [0,1,0,1,0,1,0,1],[2,0,2,0,2,0,2,0],[0,0,0,0,0,0,0,0]   ,[0,0,0,0,0,0,0,0]])\n",
    "th = np.array([6,2,0xa,2,6,2,0xa,2])\n",
    "noise = np.array([[2,3,2,1,2,3,2,1],[2,-1,-3,-2,-1,3,2,1]])"
   ]
  },
  {
   "cell_type": "code",
   "execution_count": 299,
   "metadata": {},
   "outputs": [],
   "source": [
    "write_clear()\n",
    "write8by8matrix(a)"
   ]
  },
  {
   "cell_type": "code",
   "execution_count": 300,
   "metadata": {},
   "outputs": [],
   "source": [
    "write_clear()\n",
    "writethreshold(th)"
   ]
  },
  {
   "cell_type": "code",
   "execution_count": 301,
   "metadata": {},
   "outputs": [
    {
     "name": "stdout",
     "output_type": "stream",
     "text": [
      "n_h =  2\n"
     ]
    }
   ],
   "source": [
    "write_clear()\n",
    "writenoise(noise)"
   ]
  },
  {
   "cell_type": "code",
   "execution_count": 305,
   "metadata": {},
   "outputs": [
    {
     "name": "stdout",
     "output_type": "stream",
     "text": [
      "2\n",
      "10\n",
      "2\n",
      "6\n",
      "2\n",
      "10\n",
      "2\n",
      "6\n"
     ]
    }
   ],
   "source": [
    "readbram_whole(1024)\n",
    "# np.shape(noise)"
   ]
  },
  {
   "cell_type": "code",
   "execution_count": 307,
   "metadata": {},
   "outputs": [
    {
     "name": "stdout",
     "output_type": "stream",
     "text": [
      "0x5d1d\n",
      "0x5d1d\n",
      "0x5d1d\n",
      "0x5d1d\n",
      "0x5d1d\n",
      "0x5d1d\n",
      "0x5d1d\n",
      "0x5d1d\n",
      "0x5d1d\n",
      "0x5d1d\n",
      "0x5d1d\n",
      "0x5d1d\n",
      "0x5d1d\n",
      "0x5d1d\n",
      "0x5d1d\n",
      "0x5d1d\n",
      "0x5d1d\n",
      "0x5d1d\n",
      "0x5d1d\n",
      "0x5d1d\n",
      "0x5d1d\n",
      "0x5d1d\n",
      "0x5d1d\n",
      "0x5d1d\n",
      "0x5d1d\n",
      "0x5d1d\n",
      "0x5d1d\n",
      "0x5d1d\n",
      "0x5d1d\n",
      "0x5d1d\n",
      "0x5d1d\n",
      "0x5d1d\n",
      "0x5d1d\n",
      "0x5d1d\n",
      "0x5d1d\n",
      "0x5d1d\n",
      "0x5d1d\n",
      "0x5d1d\n",
      "0x5d1d\n",
      "0x5d1d\n",
      "0x5d1d\n",
      "0x5d1d\n",
      "0x5d1d\n",
      "0x5d1d\n",
      "0x5d1d\n",
      "0x5d1d\n",
      "0x5d1d\n",
      "0x5d1d\n",
      "0x5d1d\n",
      "0x5d1d\n",
      "0x5d1d\n",
      "0x5d1d\n",
      "0x5d1d\n",
      "0x5d1d\n",
      "0x5d1d\n",
      "0x5d1d\n",
      "0x5d1d\n",
      "0x5d1d\n",
      "0x5d1d\n",
      "0x5d1d\n",
      "0x5d1d\n",
      "0x5d1d\n",
      "0x5d1d\n",
      "0x5d1d\n",
      "0x5d1d\n",
      "0x5d1d\n",
      "0x5d1d\n",
      "0x5d1d\n",
      "0x5d1d\n",
      "0x5d1d\n",
      "0x5d1d\n",
      "0x5d1d\n",
      "0x5d1d\n",
      "0x5d1d\n",
      "0x5d1d\n",
      "0x5d1d\n",
      "0x5d1d\n",
      "0x5d1d\n",
      "0x5d1d\n",
      "0x5d1d\n",
      "0x5d1d\n",
      "0x5d1d\n",
      "0x5d1d\n",
      "0x5d1d\n",
      "0x5d1d\n",
      "0x5d1d\n",
      "0x5d1d\n",
      "0x5d1d\n",
      "0x5d1d\n",
      "0x5d1d\n",
      "0x5d1d\n",
      "0x5d1d\n",
      "0x5d1d\n",
      "0x5d1d\n",
      "0x5d1d\n",
      "0x5d1d\n",
      "0x5d1d\n",
      "0x5d1d\n",
      "0x5d1d\n",
      "0x5d1d\n"
     ]
    }
   ],
   "source": [
    "write_clear()\n",
    "myip.write(0x14,1)\n",
    "for i in range(100):\n",
    "    print(hex(read_result()))"
   ]
  },
  {
   "cell_type": "code",
   "execution_count": null,
   "metadata": {},
   "outputs": [],
   "source": []
  }
 ],
 "metadata": {
  "kernelspec": {
   "display_name": "Python 3",
   "language": "python",
   "name": "python3"
  },
  "language_info": {
   "codemirror_mode": {
    "name": "ipython",
    "version": 3
   },
   "file_extension": ".py",
   "mimetype": "text/x-python",
   "name": "python",
   "nbconvert_exporter": "python",
   "pygments_lexer": "ipython3",
   "version": "3.6.5"
  }
 },
 "nbformat": 4,
 "nbformat_minor": 2
}
